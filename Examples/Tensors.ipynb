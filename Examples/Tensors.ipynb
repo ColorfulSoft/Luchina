{
  "nbformat": 4,
  "nbformat_minor": 0,
  "metadata": {
    "colab": {
      "provenance": []
    },
    "kernelspec": {
      "name": ".net-csharp",
      "display_name": "C#"
    },
    "language_info": {
      "name": "csharp"
    },
    "gpuClass": "standard"
  },
  "cells": [
    {
      "cell_type": "markdown",
      "source": [
        "**Warning!**\n",
        "\n",
        "*To activate the C# kernel, follow these steps:*\n",
        "\n",
        "* Run the code of the next cell and wait for its completion.\n",
        "\n",
        "* Refresh the browser page (in most cases, this can be done by pressing the F5 key).\n",
        "\n",
        "* **Run your C# cells!**"
      ],
      "metadata": {
        "id": "Jb_ON5L4I5RW"
      }
    },
    {
      "cell_type": "code",
      "source": [
        "#@title Prepare Google Colab for C# Kernel\n",
        "\n",
        "# Install dotnet\n",
        "\n",
        "!wget -q https://packages.microsoft.com/config/ubuntu/20.04/packages-microsoft-prod.deb -O packages-microsoft-prod.deb\n",
        "!sudo dpkg -i packages-microsoft-prod.deb &> /dev/null\n",
        "!rm packages-microsoft-prod.deb\n",
        "!sudo apt-get update -qq &> /dev/null\n",
        "!sudo apt-get install dotnet-sdk-7.0 -qq &> /dev/null\n",
        "\n",
        "# Install jupyter kernel\n",
        "\n",
        "!dotnet tool install -v q --tool-path /usr/bin --version 1.0.360602 Microsoft.dotnet-interactive &> /dev/null\n",
        "!dotnet interactive jupyter install &> /dev/null\n",
        "\n",
        "# Create proxy file\n",
        "\n",
        "with open(\"ipc_proxy_kernel.py\", \"w\") as f:\n",
        "    f.write(\"\"\"import zmq;\n",
        "import json;\n",
        "import argparse;\n",
        "from threading import Thread;\n",
        "from traitlets.traitlets import Type;\n",
        "from jupyter_client import KernelClient;\n",
        "from jupyter_client.session import Session;\n",
        "from jupyter_client.channels import HBChannel;\n",
        "from jupyter_client.manager import KernelManager;\n",
        "\n",
        "parser = argparse.ArgumentParser();\n",
        "parser.add_argument(\"connection_file\");\n",
        "parser.add_argument(\"--kernel\", type = str, required = True);\n",
        "args = parser.parse_args();\n",
        "\n",
        "# parse connection file details\n",
        "with open(args.connection_file, \"r\") as connection_file:\n",
        "    connection_file_contents = json.load(connection_file);\n",
        "    transport = str(connection_file_contents[\"transport\"]);\n",
        "    ip = str(connection_file_contents[\"ip\"]);\n",
        "    shell_port = int(connection_file_contents[\"shell_port\"]);\n",
        "    stdin_port = int(connection_file_contents[\"stdin_port\"]);\n",
        "    control_port = int(connection_file_contents[\"control_port\"]);\n",
        "    iopub_port = int(connection_file_contents[\"iopub_port\"]);\n",
        "    hb_port = int(connection_file_contents[\"hb_port\"]);\n",
        "    signature_scheme = str(connection_file_contents[\"signature_scheme\"]);\n",
        "    key = str(connection_file_contents[\"key\"]).encode();\n",
        "# channel | kernel_type | client_type\n",
        "# shell   | ROUTER      | DEALER\n",
        "# stdin   | ROUTER      | DEALER\n",
        "# ctrl    | ROUTER      | DEALER\n",
        "# iopub   | PUB         | SUB\n",
        "# hb      | REP         | REQ\n",
        "zmq_context = zmq.Context()\n",
        "\n",
        "def create_and_bind_socket(port: int, socket_type: int):\n",
        "    if(port <= 0):\n",
        "        raise ValueError(f\"Invalid port: {port}\");\n",
        "    if(transport == \"tcp\"):\n",
        "        addr = f\"tcp://{ip}:{port}\";\n",
        "    elif(transport == \"ipc\"):\n",
        "        addr = f\"ipc://{ip}-{port}\";\n",
        "    else:\n",
        "        raise ValueError(f\"Unknown transport: {transport}\");\n",
        "    socket: zmq.Socket = zmq_context.socket(socket_type);\n",
        "    socket.linger = 1000; # ipykernel does this\n",
        "    socket.bind(addr);\n",
        "    return socket;\n",
        "\n",
        "shell_socket = create_and_bind_socket(shell_port, zmq.ROUTER);\n",
        "stdin_socket = create_and_bind_socket(stdin_port, zmq.ROUTER);\n",
        "control_socket = create_and_bind_socket(control_port, zmq.ROUTER);\n",
        "iopub_socket = create_and_bind_socket(iopub_port, zmq.PUB);\n",
        "hb_socket = create_and_bind_socket(hb_port, zmq.REP);\n",
        "# Proxy and the real kernel have their own heartbeats. (shoutout to ipykernel\n",
        "# for this neat little heartbeat implementation)\n",
        "Thread(target = zmq.device, args = (zmq.QUEUE, hb_socket, hb_socket)).start();\n",
        "\n",
        "def ZMQProxyChannel_factory(proxy_server_socket: zmq.Socket):\n",
        "    class ZMQProxyChannel(object):\n",
        "        kernel_client_socket: zmq.Socket = None;\n",
        "        session: Session = None;\n",
        "\n",
        "        def __init__(self, socket: zmq.Socket, session: Session, _ = None):\n",
        "            super().__init__();\n",
        "            self.kernel_client_socket = socket;\n",
        "            self.session = session;\n",
        "\n",
        "        def start(self):\n",
        "            # Very convenient zmq device here, proxy will handle the actual zmq\n",
        "            # proxying on each of our connected sockets (other than heartbeat).\n",
        "            # It blocks while they are connected so stick it in a thread.\n",
        "            Thread(\n",
        "                target = zmq.proxy,\n",
        "                args = (proxy_server_socket, self.kernel_client_socket)\n",
        "            ).start();\n",
        "\n",
        "        def stop(self):\n",
        "            if(self.kernel_client_socket is not None):\n",
        "                try:\n",
        "                    self.kernel_client_socket.close(linger = 0);\n",
        "                except Exception:\n",
        "                    pass;\n",
        "                self.kernel_client_socket = None;\n",
        "\n",
        "        def is_alive(self):\n",
        "            return self.kernel_client_socket is not None;\n",
        "\n",
        "    return ZMQProxyChannel\n",
        "\n",
        "class ProxyKernelClient(KernelClient):\n",
        "    shell_channel_class = Type(ZMQProxyChannel_factory(shell_socket));\n",
        "    stdin_channel_class = Type(ZMQProxyChannel_factory(stdin_socket));\n",
        "    control_channel_class = Type(ZMQProxyChannel_factory(control_socket));\n",
        "    iopub_channel_class = Type(ZMQProxyChannel_factory(iopub_socket));\n",
        "    hb_channel_class = Type(HBChannel);\n",
        "\n",
        "\n",
        "kernel_manager = KernelManager();\n",
        "kernel_manager.kernel_name = args.kernel;\n",
        "kernel_manager.transport = \"tcp\";\n",
        "kernel_manager.client_factory = ProxyKernelClient;\n",
        "kernel_manager.autorestart = False;\n",
        "# Make sure the wrapped kernel uses the same session info. This way we don't\n",
        "# need to decode them before forwarding, we can directly pass everything\n",
        "# through.\n",
        "kernel_manager.session.signature_scheme = signature_scheme;\n",
        "kernel_manager.session.key = key;\n",
        "kernel_manager.start_kernel();\n",
        "# Connect to the real kernel we just started and start up all the proxies.\n",
        "kernel_client: ProxyKernelClient = kernel_manager.client();\n",
        "kernel_client.start_channels();\n",
        "# Everything should be up and running. We now just wait for the managed kernel\n",
        "# process to exit and when that happens, shutdown and exit with the same code.\n",
        "exit_code = kernel_manager.kernel.wait();\n",
        "kernel_client.stop_channels();\n",
        "zmq_context.destroy(0);\n",
        "exit(exit_code);\"\"\");\n",
        "\n",
        "# Install proxy\n",
        "\n",
        "import os;\n",
        "import sys;\n",
        "import json;\n",
        "import shutil;\n",
        "import os.path;\n",
        "from jupyter_client.kernelspec import KernelSpec, KernelSpecManager, NoSuchKernel;\n",
        "\n",
        "kernel_spec_manager = KernelSpecManager();\n",
        "real_kernel_spec: KernelSpec = kernel_spec_manager.get_kernel_spec(\".net-csharp\");\n",
        "real_kernel_install_path = real_kernel_spec.resource_dir;\n",
        "new_kernel_name = \".net-csharp_tcp\";\n",
        "new_kernel_install_path = os.path.join(\n",
        "    os.path.dirname(real_kernel_install_path), new_kernel_name\n",
        ");\n",
        "shutil.move(real_kernel_install_path, new_kernel_install_path);\n",
        "# Update the moved kernel name and args. We tag it _tcp because the proxy will\n",
        "# impersonate it and should be the one using the real name.\n",
        "new_kernel_json_path = os.path.join(new_kernel_install_path, \"kernel.json\");\n",
        "with open(new_kernel_json_path, \"r\") as in_:\n",
        "    real_kernel_json = json.load(in_);\n",
        "    real_kernel_json[\"name\"] = new_kernel_name;\n",
        "    real_kernel_json[\"argv\"] = list(\n",
        "        map(\n",
        "            lambda arg: arg.replace(real_kernel_install_path, new_kernel_install_path),\n",
        "            real_kernel_json[\"argv\"]\n",
        "        )\n",
        "    );\n",
        "with open(new_kernel_json_path, \"w\") as out:\n",
        "    json.dump(real_kernel_json, out);\n",
        "os.makedirs(real_kernel_install_path)\n",
        "proxy_kernel_implementation_path = os.path.join(\n",
        "    real_kernel_install_path, \"ipc_proxy_kernel.py\"\n",
        ");\n",
        "proxy_kernel_spec = KernelSpec();\n",
        "proxy_kernel_spec.argv = [\n",
        "    sys.executable,\n",
        "    proxy_kernel_implementation_path,\n",
        "    \"{connection_file}\",\n",
        "    f\"--kernel={new_kernel_name}\"\n",
        "];\n",
        "proxy_kernel_spec.display_name = real_kernel_spec.display_name;\n",
        "proxy_kernel_spec.interrupt_mode = real_kernel_spec.interrupt_mode or \"message\";\n",
        "proxy_kernel_spec.language = real_kernel_spec.language;\n",
        "proxy_kernel_json_path = os.path.join(real_kernel_install_path, \"kernel.json\");\n",
        "with open(proxy_kernel_json_path, \"w\") as out:\n",
        "    json.dump(proxy_kernel_spec.to_dict(), out, indent = 2);\n",
        "new_name = shutil.copy(\"ipc_proxy_kernel.py\", proxy_kernel_implementation_path);"
      ],
      "metadata": {
        "id": "uewzNnq2qQW5",
        "cellView": "form"
      },
      "execution_count": null,
      "outputs": []
    },
    {
      "cell_type": "code",
      "source": [
        "#@title Refresh the browser page (in most cases, this can be done by pressing the F5 key)\n"
      ],
      "metadata": {
        "cellView": "form",
        "id": "hh2Bkyn04Oba"
      },
      "execution_count": null,
      "outputs": []
    },
    {
      "cell_type": "markdown",
      "source": [
        "**Helpers**"
      ],
      "metadata": {
        "id": "nmGVl-TIwVRc"
      }
    },
    {
      "cell_type": "code",
      "source": [
        "using System;\n",
        "using System.IO;\n",
        "using System.Net;\n",
        "\n",
        "void wget(string url)\n",
        "{\n",
        "  using(var client = new WebClient())\n",
        "  {\n",
        "    client.DownloadFile(url, Path.GetFileName((new Uri(url)).LocalPath));\n",
        "  }\n",
        "}"
      ],
      "metadata": {
        "colab": {
          "base_uri": "https://localhost:8080/"
        },
        "id": "fIUTpkVr_HNC",
        "outputId": "8a0faacc-3008-483d-8989-c805e34c1511"
      },
      "execution_count": 1,
      "outputs": [
        {
          "output_type": "stream",
          "name": "stderr",
          "text": [
            "\n",
            "(7,22): warning SYSLIB0014: 'WebClient.WebClient()' is obsolete: 'WebRequest, HttpWebRequest, ServicePoint, and WebClient are obsolete. Use HttpClient instead.'\n",
            "\n"
          ]
        }
      ]
    },
    {
      "cell_type": "markdown",
      "source": [
        "**Download torchlite release from GitHub**"
      ],
      "metadata": {
        "id": "04rjwHxzwZ1Z"
      }
    },
    {
      "cell_type": "code",
      "source": [
        "wget(\"https://github.com/ColorfulSoft/TorchLite/releases/download/Latest/torchlite.dll\")"
      ],
      "metadata": {
        "id": "oZIG5KzGweAM"
      },
      "execution_count": 2,
      "outputs": []
    },
    {
      "cell_type": "markdown",
      "source": [
        "**Using directives**"
      ],
      "metadata": {
        "id": "rXLrcwO4wu0s"
      }
    },
    {
      "cell_type": "code",
      "source": [
        "#r \"torchlite.dll\""
      ],
      "metadata": {
        "id": "YmD8NCg3w6Y4"
      },
      "execution_count": 3,
      "outputs": []
    },
    {
      "cell_type": "code",
      "source": [
        "using System;\n",
        "using System.AI.Experimental; // for torchlite"
      ],
      "metadata": {
        "id": "eRElRWjuwxvF"
      },
      "execution_count": 4,
      "outputs": []
    },
    {
      "cell_type": "markdown",
      "source": [
        "**Example 1. Creation and output of tensors**"
      ],
      "metadata": {
        "id": "qZIpJGR8wit-"
      }
    },
    {
      "cell_type": "code",
      "source": [
        "var a = torchlite.tensor(new [,]{{1, 2, 3},\n",
        "                                 {4, 5, 6}}); // From .NET array\n",
        "var b = torchlite.randn(3); // With normal random numbers\n",
        "var c = torchlite.zeros(2, 2); // With zeros\n",
        "\n",
        "Console.WriteLine(a); // Print torchlite.Tensor using Console.WriteLine\n",
        "Console.WriteLine(b);\n",
        "Console.WriteLine(c);"
      ],
      "metadata": {
        "colab": {
          "base_uri": "https://localhost:8080/"
        },
        "id": "Nf3beOw2whrb",
        "outputId": "6b7f43ab-1598-4b1b-bc3f-96df53a5984b"
      },
      "execution_count": 5,
      "outputs": [
        {
          "output_type": "stream",
          "name": "stdout",
          "text": [
            "tensor([[1, 2, 3],\n",
            "        [4, 5, 6]], dtype = torchlite.int32, requires_grad = False)\n",
            "tensor([-0.0323,   0.361, -0.2495], dtype = torchlite.float32, requires_grad = False)\n",
            "tensor([[0, 0],\n",
            "        [0, 0]], dtype = torchlite.float32, requires_grad = False)\n"
          ]
        }
      ]
    },
    {
      "cell_type": "markdown",
      "source": [
        "**Example 2. Indexing**"
      ],
      "metadata": {
        "id": "z5CUCr2Sx63s"
      }
    },
    {
      "cell_type": "code",
      "source": [
        "Console.WriteLine(a[0]); // Get specified dimension(s)\n",
        "Console.WriteLine(a[\":\", 1]); // Get slice via string index\n",
        "Console.WriteLine(b[new torchlite.Slice(1, 3)]); // Get slice via torchlite.Slice index\n",
        "\n",
        "a[1] = 10;\n",
        "Console.WriteLine(a);"
      ],
      "metadata": {
        "colab": {
          "base_uri": "https://localhost:8080/"
        },
        "id": "kom8OoG8x6AI",
        "outputId": "55094566-33c9-4206-bbfa-4115aefec8a5"
      },
      "execution_count": 6,
      "outputs": [
        {
          "output_type": "stream",
          "name": "stdout",
          "text": [
            "tensor([1, 2, 3], dtype = torchlite.int32, requires_grad = False)\n",
            "tensor([2, 5], dtype = torchlite.int32, requires_grad = False)\n",
            "tensor([  0.361, -0.2495], dtype = torchlite.float32, requires_grad = False)\n",
            "tensor([[ 1,  2,  3],\n",
            "        [10, 10, 10]], dtype = torchlite.int32, requires_grad = False)\n"
          ]
        }
      ]
    },
    {
      "cell_type": "markdown",
      "source": [
        "**Example 3. Type conversions**"
      ],
      "metadata": {
        "id": "Vo3WbzJ4zfKX"
      }
    },
    {
      "cell_type": "code",
      "source": [
        "var a_float = a.@float();\n",
        "var c_bool = c.@bool();\n",
        "Console.WriteLine(a_float);\n",
        "Console.WriteLine(c_bool);"
      ],
      "metadata": {
        "colab": {
          "base_uri": "https://localhost:8080/"
        },
        "id": "FPDXNIVGzjkC",
        "outputId": "9c5564f0-5146-4480-f164-6dd2daeea8d2"
      },
      "execution_count": 7,
      "outputs": [
        {
          "output_type": "stream",
          "name": "stdout",
          "text": [
            "tensor([[ 1,  2,  3],\n",
            "        [10, 10, 10]], dtype = torchlite.float32, requires_grad = False)\n",
            "tensor([[False, False],\n",
            "        [False, False]], dtype = torchlite.bool, requires_grad = False)\n"
          ]
        }
      ]
    },
    {
      "cell_type": "markdown",
      "source": [
        "**Example 4. Arithmetic**"
      ],
      "metadata": {
        "id": "k8feUjkGz1yz"
      }
    },
    {
      "cell_type": "code",
      "source": [
        "var left = torchlite.randn(3, 2);\n",
        "var right = torchlite.randn(1, 2);\n",
        "Console.WriteLine(left);\n",
        "Console.WriteLine(right);\n",
        "Console.WriteLine(left + right);\n",
        "Console.WriteLine(left - right);\n",
        "Console.WriteLine(left * right);\n",
        "Console.WriteLine(left / right);\n",
        "// Power is implemented through ^ (exclusive or) C# operator.\n",
        "// It has lower precedence than other operations, so it should be braced.\n",
        "// ^ operator implements power when at least one operand is floating point and bitwise xor otherwise.\n",
        "Console.WriteLine(left ^ right);"
      ],
      "metadata": {
        "colab": {
          "base_uri": "https://localhost:8080/"
        },
        "id": "r7EVfuH1z6Mi",
        "outputId": "4b5e2c51-14f7-48d7-9272-adf591e620fe"
      },
      "execution_count": 8,
      "outputs": [
        {
          "output_type": "stream",
          "name": "stdout",
          "text": [
            "tensor([[ 1.0971,  1.4184],\n",
            "        [-1.0904,  0.5814],\n",
            "        [ 0.2759, -0.2624]], dtype = torchlite.float32, requires_grad = False)\n",
            "tensor([[0.0421,  0.009]], dtype = torchlite.float32, requires_grad = False)\n",
            "tensor([[ 1.1391,  1.4274],\n",
            "        [-1.0483,  0.5904],\n",
            "        [  0.318, -0.2535]], dtype = torchlite.float32, requires_grad = False)\n",
            "tensor([[  1.055,  1.4094],\n",
            "        [-1.1325,  0.5724],\n",
            "        [ 0.2339, -0.2714]], dtype = torchlite.float32, requires_grad = False)\n",
            "tensor([[ 0.0462,  0.0127],\n",
            "        [-0.0459,  0.0052],\n",
            "        [ 0.0116, -0.0024]], dtype = torchlite.float32, requires_grad = False)\n",
            "tensor([[  26.0787,  157.8145],\n",
            "        [ -25.9197,   64.6856],\n",
            "        [   6.5595,  -29.1991]], dtype = torchlite.float32, requires_grad = False)\n",
            "tensor([[1.0039, 1.0031],\n",
            "        [   NaN, 0.9951],\n",
            "        [0.9473,    NaN]], dtype = torchlite.float32, requires_grad = False)\n"
          ]
        }
      ]
    },
    {
      "cell_type": "markdown",
      "source": [
        "**Example 5. Pointwise math**"
      ],
      "metadata": {
        "id": "mTJ0V0jI3Ov1"
      }
    },
    {
      "cell_type": "code",
      "source": [
        "var a = torchlite.randn(5, 5);\n",
        "Console.WriteLine(a);\n",
        "Console.WriteLine(torchlite.abs(a)); // torchlite module contains many pointwise functions for tensors\n",
        "Console.WriteLine(a.relu()); // Almost all functions are also available via a tensor instance."
      ],
      "metadata": {
        "colab": {
          "base_uri": "https://localhost:8080/"
        },
        "id": "TaPT-BHy3Uh5",
        "outputId": "fbe2e94e-9e60-4a3b-df86-67c8217a496d"
      },
      "execution_count": 9,
      "outputs": [
        {
          "output_type": "stream",
          "name": "stdout",
          "text": [
            "tensor([[ 0.6179,  0.4378,   -0.03, -0.7334,  2.0564],\n",
            "        [ -0.592, -1.0775,  -0.971,  1.1139, -1.5525],\n",
            "        [-0.6467, -0.3437,  0.4334,  0.4379, -0.1421],\n",
            "        [ 0.8032, -3.0323, -0.2757,  0.7608,  0.4507],\n",
            "        [ 0.5388,  -0.766,  0.6576,  0.6573,  1.3778]], dtype = torchlite.float32, requires_grad = False)\n",
            "tensor([[0.6179, 0.4378,   0.03, 0.7334, 2.0564],\n",
            "        [ 0.592, 1.0775,  0.971, 1.1139, 1.5525],\n",
            "        [0.6467, 0.3437, 0.4334, 0.4379, 0.1421],\n",
            "        [0.8032, 3.0323, 0.2757, 0.7608, 0.4507],\n",
            "        [0.5388,  0.766, 0.6576, 0.6573, 1.3778]], dtype = torchlite.float32, requires_grad = False)\n",
            "tensor([[0.6179, 0.4378,      0,      0, 2.0564],\n",
            "        [     0,      0,      0, 1.1139,      0],\n",
            "        [     0,      0, 0.4334, 0.4379,      0],\n",
            "        [0.8032,      0,      0, 0.7608, 0.4507],\n",
            "        [0.5388,      0, 0.6576, 0.6573, 1.3778]], dtype = torchlite.float32, requires_grad = False)\n"
          ]
        }
      ]
    }
  ]
}